{
 "cells": [
  {
   "cell_type": "markdown",
   "metadata": {},
   "source": [
    "# 📊 TLG Notebook\n",
    "- **TLG ID**: {{TLG_ID}}\n",
    "- **Title**: {{TITLE}}\n",
    "- **Programmer**: {{PROGRAMMER}}\n",
    "- **QC Reviewer**: {{QC_REVIEWER}}"
   ]
  },
  {
   "cell_type": "code",
   "metadata": {},
   "execution_count": null,
   "outputs": [],
   "source": [
    "from delta.tables import DeltaTable\n",
    "import json\n",
    "\n",
    "#Inputs\n",
    "input_table = 'onesource_eu_dev_rni.evidence_silver.silver_edc_demo_ae'\n",
    "input_table_version = spark.sql(f'DESCRIBE HISTORY {input_table}').collect()[0]['version']\n"
   ]
  },
  {
   "cell_type": "code",
   "metadata": {},
   "execution_count": null,
   "outputs": [],
   "source": [
    "# Start your analysis below\n",
    "# spark.read.format('delta').table('adam.adsl')"
   ]
  },
  {
   "cell_type": "code",
   "metadata": {},
   "execution_count": null,
   "outputs": [],
   "source": [
    "dbutils.notebook.exit(json.dumps({\n",
    " 'input_table': input_table\n"
    " 'input_table_version': input_table_version\n",
    " 'output_path': output_path\n",
    " 'row_count': row_count\n",
   "}))\n"
   ]
  }
 ],
 "metadata": {
  "kernelspec": {
   "display_name": "Python 3",
   "language": "python",
   "name": "python3"
  }
 },
 "nbformat": 4,
 "nbformat_minor": 5
}
