{
 "cells": [
  {
   "cell_type": "markdown",
   "id": "17b664dd",
   "metadata": {},
   "source": [
    "# 📊 TLG Notebook\n",
    "- **TLG ID**: 14\n",
    "- **Title**: T14\n",
    "- **Programmer**: @\n",
    "- **QC Reviewer**: @"
   ]
  },
  {
   "cell_type": "code",
   "execution_count": null,
   "id": "64708b09",
   "metadata": {},
   "outputs": [],
   "source": [
    "# Start your analysis\n",
    "# spark.read.format('delta').table('adam.adsl')"
   ]
  }
 ],
 "metadata": {},
 "nbformat": 4,
 "nbformat_minor": 5
}
