{
 "cells": [
  {
   "cell_type": "markdown",
   "id": "802cdde0",
   "metadata": {},
   "source": [
    "# 📊 TLG Notebook\n",
    "- **TLG ID**: 26\n",
    "- **Title**: Mahabub table\n",
    "- **Programmer**: @mahabub\n",
    "- **QC Reviewer**: @pfioole"
   ]
  },
  {
   "cell_type": "code",
   "execution_count": null,
   "id": "d532656f",
   "metadata": {},
   "outputs": [],
   "source": [
    "from delta.tables import DeltaTable\n",
    "import json\n",
    "\n",
    "#Inputs\n",
    "input_table = 'onesource_eu_dev_rni.evidence_silver.silver_edc_demo_ae'\n",
    "input_table_version = spark.sql(f'DESCRIBE HISTORY {input_table}').collect()[0]['version']\n"
   ]
  },
  {
   "cell_type": "code",
   "execution_count": null,
   "id": "482bb5c1",
   "metadata": {},
   "outputs": [],
   "source": [
    "# Start your analysis below\n",
    "# spark.read.format('delta').table('adam.adsl')\n",
    "output_path = 'placeholder'\n",
    "row_count = '0'\n"
   ]
  },
  {
   "cell_type": "code",
   "execution_count": null,
   "id": "4e4db023",
   "metadata": {},
   "outputs": [],
   "source": [
    "#Return structured result - do not modify\n",
    "dbutils.notebook.exit(json.dumps({\n",
    " 'input_table': input_table,\n",
    " 'input_table_version': input_table_version,\n",
    " 'output_path': output_path,\n",
    " 'row_count': row_count\n",
    "}))\n"
   ]
  }
 ],
 "metadata": {
  "kernelspec": {
   "display_name": "Python 3",
   "language": "python",
   "name": "python3"
  }
 },
 "nbformat": 4,
 "nbformat_minor": 5
}
