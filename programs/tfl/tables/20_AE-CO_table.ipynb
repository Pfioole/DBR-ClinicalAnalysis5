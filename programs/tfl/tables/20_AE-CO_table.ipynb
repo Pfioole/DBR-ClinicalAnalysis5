{
 "cells": [
  {
   "cell_type": "markdown",
   "id": "711bf431",
   "metadata": {},
   "source": [
    "# 📊 TLG Notebook\n",
    "- **TLG ID**: 20\n",
    "- **Title**: AE-CO table\n",
    "- **Programmer**: @pfioole\n",
    "- **QC Reviewer**: @paul.fioole@telenet.be"
   ]
  },
  {
   "cell_type": "code",
   "execution_count": null,
   "id": "58942fa2",
   "metadata": {},
   "outputs": [],
   "source": [
    "# Start your analysis below\n",
    "# spark.read.format('delta').table('adam.adsl')"
   ]
  }
 ],
 "metadata": {
  "kernelspec": {
   "display_name": "Python 3",
   "language": "python",
   "name": "python3"
  }
 },
 "nbformat": 4,
 "nbformat_minor": 5
}
