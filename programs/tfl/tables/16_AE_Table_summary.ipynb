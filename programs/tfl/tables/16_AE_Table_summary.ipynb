{
 "cells": [
  {
   "cell_type": "markdown",
   "id": "34036668",
   "metadata": {},
   "source": [
    "# AE Table summary\n",
    "\n",
    "**TLG ID:** 16\n",
    "**Type:** Table"
   ]
  }
 ],
 "metadata": {},
 "nbformat": 4,
 "nbformat_minor": 5
}
