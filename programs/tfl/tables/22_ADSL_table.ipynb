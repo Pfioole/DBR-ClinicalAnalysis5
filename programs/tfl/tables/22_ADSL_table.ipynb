{
 "cells": [
  {
   "cell_type": "markdown",
   "id": "91b6559f",
   "metadata": {},
   "source": [
    "# 📊 TLG Notebook\n",
    "- **TLG ID**: 22\n",
    "- **Title**: ADSL table\n",
    "- **Programmer**: @pfioole\n",
    "- **QC Reviewer**: @fioolepa"
   ]
  },
  {
   "cell_type": "code",
   "execution_count": null,
   "id": "2f389ac0",
   "metadata": {},
   "outputs": [],
   "source": [
    "# Start your analysis below\n",
    "# spark.read.format('delta').table('adam.adsl')"
   ]
  }
 ],
 "metadata": {
  "kernelspec": {
   "display_name": "Python 3",
   "language": "python",
   "name": "python3"
  }
 },
 "nbformat": 4,
 "nbformat_minor": 5
}
