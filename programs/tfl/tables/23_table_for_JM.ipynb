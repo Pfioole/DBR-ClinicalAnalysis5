{
 "cells": [
  {
   "cell_type": "markdown",
   "id": "176b4616",
   "metadata": {},
   "source": [
    "# 📊 TLG Notebook\n",
    "- **TLG ID**: 23\n",
    "- **Title**: table for JM\n",
    "- **Programmer**: @pf\n",
    "- **QC Reviewer**: @jmf"
   ]
  },
  {
   "cell_type": "code",
   "execution_count": null,
   "id": "90d5cd73",
   "metadata": {},
   "outputs": [],
   "source": [
    "# Start your analysis below\n",
    "# spark.read.format('delta').table('adam.adsl')"
   ]
  }
 ],
 "metadata": {
  "kernelspec": {
   "display_name": "Python 3",
   "language": "python",
   "name": "python3"
  }
 },
 "nbformat": 4,
 "nbformat_minor": 5
}
