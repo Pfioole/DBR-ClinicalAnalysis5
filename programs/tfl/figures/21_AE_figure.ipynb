{
 "cells": [
  {
   "cell_type": "markdown",
   "id": "1230944b",
   "metadata": {},
   "source": [
    "# 📊 TLG Notebook\n",
    "- **TLG ID**: 21\n",
    "- **Title**: AE figure\n",
    "- **Programmer**: @pfioole\n",
    "- **QC Reviewer**: @fioolepa"
   ]
  },
  {
   "cell_type": "code",
   "execution_count": null,
   "id": "a930e3d5",
   "metadata": {},
   "outputs": [],
   "source": [
    "# Start your analysis below\n",
    "# spark.read.format('delta').table('adam.adsl')"
   ]
  }
 ],
 "metadata": {
  "kernelspec": {
   "display_name": "Python 3",
   "language": "python",
   "name": "python3"
  }
 },
 "nbformat": 4,
 "nbformat_minor": 5
}
